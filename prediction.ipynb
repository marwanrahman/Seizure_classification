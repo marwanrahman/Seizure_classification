{
  "nbformat": 4,
  "nbformat_minor": 0,
  "metadata": {
    "kernelspec": {
      "display_name": "Python 3",
      "language": "python",
      "name": "python3"
    },
    "language_info": {
      "codemirror_mode": {
        "name": "ipython",
        "version": 3
      },
      "file_extension": ".py",
      "mimetype": "text/x-python",
      "name": "python",
      "nbconvert_exporter": "python",
      "pygments_lexer": "ipython3",
      "version": "3.7.3"
    },
    "colab": {
      "name": "prediction.ipynb",
      "provenance": []
    }
  },
  "cells": [
    {
      "cell_type": "code",
      "metadata": {
        "id": "2PReoSqlMGq2",
        "colab_type": "code",
        "colab": {}
      },
      "source": [
        "!pip install pyts"
      ],
      "execution_count": 0,
      "outputs": []
    },
    {
      "cell_type": "code",
      "metadata": {
        "id": "ADH1ZqtYMIb8",
        "colab_type": "code",
        "colab": {}
      },
      "source": [
        "!pip install gcsfs"
      ],
      "execution_count": 0,
      "outputs": []
    },
    {
      "cell_type": "code",
      "metadata": {
        "id": "9RltZUQ6MEhf",
        "colab_type": "code",
        "colab": {}
      },
      "source": [
        "import tensorflow as tf\n",
        "from tensorflow import keras\n",
        "import tensorflow.keras.metrics\n",
        "from tensorflow.keras.models import Model\n",
        "from tensorflow.python.lib.io import file_io\n",
        "import numpy as np\n",
        "# import keras\n",
        "import h5py\n",
        "import pandas as pd\n",
        "import re\n",
        "import glob\n",
        "\n",
        "from sklearn.metrics import classification_report\n",
        "from scipy.io import loadmat\n",
        "from pyts.image import GramianAngularField\n",
        "import sys\n",
        "from os import walk\n",
        "from pyts.image import RecurrencePlot\n",
        "import os\n",
        "from google.cloud import storage\n",
        "import gcsfs\n",
        "from os import environ\n",
        "from imblearn.over_sampling import (SMOTE, BorderlineSMOTE, SVMSMOTE, SMOTENC)\n",
        "from imblearn.over_sampling import ADASYN\n",
        "from imblearn.under_sampling import NearMiss \n",
        "from sklearn.model_selection import train_test_split\n"
      ],
      "execution_count": 0,
      "outputs": []
    },
    {
      "cell_type": "code",
      "metadata": {
        "id": "r2rPSuf4MEhp",
        "colab_type": "code",
        "colab": {}
      },
      "source": [
        "# model=tf.keras.models.load_model(r\"G:\\Seizure_Data\\final\\trainer\\save_h5\\model.h5\")"
      ],
      "execution_count": 0,
      "outputs": []
    },
    {
      "cell_type": "code",
      "metadata": {
        "id": "o9bBoSddMEhv",
        "colab_type": "code",
        "colab": {}
      },
      "source": [
        "os.environ[\"GOOGLE_APPLICATION_CREDENTIALS\"] = r\"/content/seizure-prediction123-593d1ad578b8.json\"\n",
        "print(os.environ.get('GOOGLE_APPLICATION_CREDENTIALS'))\n",
        "client=storage.Client()\n",
        "os.environ[\"GCP_BUCKET_NAME\"] = \"marwansrikarharris\"\n",
        "bucket_name = os.environ.get(\"GCP_BUCKET_NAME\")\n",
        "bucket = client.get_bucket(bucket_name)\n",
        "files = bucket.list_blobs(prefix=\"Data/\")\n",
        "fileList = [file.name for file in files if '.' in file.name]"
      ],
      "execution_count": 0,
      "outputs": []
    },
    {
      "cell_type": "code",
      "metadata": {
        "id": "EG0uUDYJO1Lv",
        "colab_type": "code",
        "colab": {}
      },
      "source": [
        "model_path=bucket.list_blobs(prefix=\"model/\")"
      ],
      "execution_count": 0,
      "outputs": []
    },
    {
      "cell_type": "code",
      "metadata": {
        "id": "J1R6nWMIP8i1",
        "colab_type": "code",
        "colab": {}
      },
      "source": [
        "model_path=[file.name for file in model_path  if '.' in file.name]"
      ],
      "execution_count": 0,
      "outputs": []
    },
    {
      "cell_type": "code",
      "metadata": {
        "id": "d6rWmjDQQEbk",
        "colab_type": "code",
        "colab": {}
      },
      "source": [
        "model_path"
      ],
      "execution_count": 0,
      "outputs": []
    },
    {
      "cell_type": "code",
      "metadata": {
        "id": "eBcvO479Qg9c",
        "colab_type": "code",
        "colab": {}
      },
      "source": [
        "fs=gcsfs.GCSFileSystem(project='seizure-prediction123')"
      ],
      "execution_count": 0,
      "outputs": []
    },
    {
      "cell_type": "code",
      "metadata": {
        "id": "K_Uznp_CQSME",
        "colab_type": "code",
        "colab": {}
      },
      "source": [
        "# file_dir=bucket_name+r\"/\"+model_path[0]\n",
        "# with fs.open(file_dir,'rb') as f:\n",
        "#   mode=tf.keras.models.load_model(f)"
      ],
      "execution_count": 0,
      "outputs": []
    },
    {
      "cell_type": "code",
      "metadata": {
        "id": "tb9n-5_ORDZv",
        "colab_type": "code",
        "colab": {}
      },
      "source": [
        "# model_file=file.io."
      ],
      "execution_count": 0,
      "outputs": []
    },
    {
      "cell_type": "code",
      "metadata": {
        "id": "UIaPyDi6QLes",
        "colab_type": "code",
        "colab": {}
      },
      "source": [
        "model=tf.keras.models.load_model('/content/model_testfile1.h5')"
      ],
      "execution_count": 0,
      "outputs": []
    },
    {
      "cell_type": "code",
      "metadata": {
        "id": "QqYYZu6kMEh1",
        "colab_type": "code",
        "colab": {}
      },
      "source": [
        "def get_variables(x,path,searched_string):\n",
        "\n",
        "#         print(test.group(0))\n",
        "    searched_string=searched_string.group(0)\n",
        "    searched_string=re.sub(r\"[0]+(?=[1-9])\",\"\",searched_string)\n",
        "    time_series_data=x[searched_string][0][0][0]\n",
        "    data_length_sec=x[searched_string][0][0][1]\n",
        "    sampling_frequency=data_length_sec=x[searched_string][0][0][2]\n",
        "    channels=data_length_sec=x[searched_string][0][0][3]\n",
        "#         sequence=data_length_sec=x[searched_string][0][0][4]\n",
        "    assemble_matrix(time_series_data,path)\n",
        "    "
      ],
      "execution_count": 0,
      "outputs": []
    },
    {
      "cell_type": "code",
      "metadata": {
        "id": "rAeFfg4oMEh7",
        "colab_type": "code",
        "colab": {}
      },
      "source": [
        "def convert_to_Gramiam(channel_data):\n",
        "    transformer=RecurrencePlot()\n",
        "    X_new = transformer.transform(channel_data)\n",
        "    input_size=3996\n",
        "    output_size=108\n",
        "    bin_size = input_size // output_size\n",
        "    X_new = X_new.reshape((1,output_size, bin_size,\n",
        "                                   output_size, bin_size,)).max(4).max(2)\n",
        "    # print(\"FINISHED RECURRENCE\")\n",
        "    X_new=X_new.astype(np.float16)\n",
        "    return X_new"
      ],
      "execution_count": 0,
      "outputs": []
    },
    {
      "cell_type": "code",
      "metadata": {
        "id": "mm8suxzeMEh-",
        "colab_type": "code",
        "colab": {}
      },
      "source": [
        "def assemble_matrix(time_series_data,path):\n",
        "    time_series_section=time_series_data[:,3:239763]\n",
        "    equal_partitions=np.hsplit(time_series_section,60)\n",
        "    image_array=get_image_matrix(equal_partitions)\n",
        "#     assemble_y(path)\n",
        "    # assemble_dataframe(list_of_3D_arrays,path)\n",
        "#     add_to_master(image_array)"
      ],
      "execution_count": 0,
      "outputs": []
    },
    {
      "cell_type": "code",
      "metadata": {
        "id": "6ZlGAU3zMEiB",
        "colab_type": "code",
        "colab": {}
      },
      "source": [
        "def get_image_matrix(equal_partitions):\n",
        "#     list_of_3D_array=[]\n",
        "    for idx, segment in enumerate(equal_partitions):\n",
        "        image_matrix=[]\n",
        "        for index, single_channel in enumerate(segment,start=0):\n",
        "            single_channel=np.reshape(single_channel,(1,len(single_channel)))\n",
        "            image_matrix.append(convert_to_Gramiam(single_channel))\n",
        "        master_array.append(create_3D_image_array(image_matrix))"
      ],
      "execution_count": 0,
      "outputs": []
    },
    {
      "cell_type": "code",
      "metadata": {
        "id": "UG96JsjPMEiI",
        "colab_type": "code",
        "colab": {}
      },
      "source": [
        "def create_3D_image_array(image_matrix):\n",
        "    image_1=image_matrix[0][0]\n",
        "    image_2=image_matrix[1][0]\n",
        "    image_3=image_matrix[2][0]\n",
        "    image_4=image_matrix[3][0]\n",
        "    image_5=image_matrix[4][0]\n",
        "    image_6=image_matrix[5][0]\n",
        "    image_7=image_matrix[6][0]\n",
        "    image_8=image_matrix[7][0]\n",
        "    image_9=image_matrix[8][0]\n",
        "    image_10=image_matrix[9][0]\n",
        "    image_11=image_matrix[10][0]\n",
        "    image_12=image_matrix[11][0]\n",
        "    image_13=image_matrix[12][0]\n",
        "    image_14=image_matrix[13][0]\n",
        "    image_15=image_matrix[14][0]\n",
        "    # image_16=image_matrix[15][0]\n",
        "\n",
        "    # image_array_3D=np.dstack([image_1,image_2,image_3,image_4,image_5,image_6,image_7,image_8,image_9,\n",
        "    #                           image_10,image_11,image_12,image_13,image_14,image_15,image_16])\n",
        "    image_array_3D=np.dstack([image_1,image_2,image_3,image_4,image_5,image_6,image_7,image_8,image_9,\n",
        "                              image_10,image_11,image_12,image_13,image_14,image_15])\n",
        "\n",
        "    return image_array_3D"
      ],
      "execution_count": 0,
      "outputs": []
    },
    {
      "cell_type": "code",
      "metadata": {
        "id": "oLSOPW-MMEiO",
        "colab_type": "code",
        "colab": {}
      },
      "source": [
        "# def add_to_master(list_of_3D_arrays):\n",
        "#     sample_3D_array=list_of_3D_arrays\n",
        "#     master_array.append(list_of_3D_arrays)"
      ],
      "execution_count": 0,
      "outputs": []
    },
    {
      "cell_type": "code",
      "metadata": {
        "id": "wBxpJIDjMEiR",
        "colab_type": "code",
        "colab": {}
      },
      "source": [
        "# def assemble_y(path):\n",
        "#     match=re.search('preictal',path)\n",
        "#     if match:\n",
        "#         for i in range(60):\n",
        "#             master_Y.append([0,1])\n",
        "#     else:\n",
        "#         for i in range(60):\n",
        "#             master_Y.append([1,0])"
      ],
      "execution_count": 0,
      "outputs": []
    },
    {
      "cell_type": "code",
      "metadata": {
        "id": "_Rl6kFcEMEiX",
        "colab_type": "code",
        "colab": {}
      },
      "source": [
        "def list_to_array():\n",
        "    all_X=np.array(master_array)\n",
        "    all_Y=np.array(master_Y)\n",
        "    return all_X,all_Y"
      ],
      "execution_count": 0,
      "outputs": []
    },
    {
      "cell_type": "code",
      "metadata": {
        "id": "jzhlL3tHMEid",
        "colab_type": "code",
        "colab": {}
      },
      "source": [
        "def assemble_y_test(label):\n",
        "    if label==1:\n",
        "        for i in range(60):\n",
        "            master_Y.append([0,1])\n",
        "    else:\n",
        "        for i in range(60):\n",
        "            master_Y.append([1,0])"
      ],
      "execution_count": 0,
      "outputs": []
    },
    {
      "cell_type": "code",
      "metadata": {
        "id": "1Pq67EPxMEij",
        "colab_type": "code",
        "colab": {}
      },
      "source": [
        "# mode=tf.keras.models.load_model('/content/testfile1.h5')"
      ],
      "execution_count": 0,
      "outputs": []
    },
    {
      "cell_type": "code",
      "metadata": {
        "id": "LeaEq-iEMEim",
        "colab_type": "code",
        "colab": {}
      },
      "source": [
        "def run(include_test=False):\n",
        "#     data_files = glob.glob(r\"/content/drive/My Drive/Seizure_Test_Data/*.mat\")\n",
        "    files=[]\n",
        "    df=pd.read_csv(r\"/content/SzPrediction_answer_key.csv\")\n",
        "    counter=0\n",
        "    fs=gcsfs.GCSFileSystem(project='seizure-prediction123')\n",
        "    for idx, file_name in enumerate(fileList):\n",
        "        test=re.search(r'test',fileList[idx])\n",
        "        \n",
        "        if test:\n",
        "            file_dir=bucket_name+r\"/\"+fileList[idx]\n",
        "            with fs.open(file_dir,'rb') as f:\n",
        "                master_array=[]\n",
        "                master_Y=[]\n",
        "                matching_string=r\"(?<=[0-9]_)[\\S]+(?=.mat)\"\n",
        "                test_subject_string=r\"(?<=\\/)Dog[0-9a-z_]+.mat\"\n",
        "                test_subject=re.search(test_subject_string,fileList[idx])\n",
        "                searched_string=re.search(matching_string,fileList[idx])\n",
        "                \n",
        "                selected_rows=df.loc[df['clip']==test_subject.group(0)]\n",
        "                               \n",
        "                \n",
        "                data_file=fileList[idx]\n",
        "                \n",
        "                \n",
        "                if searched_string.group(0)=='test_segment_0031':\n",
        "                  print(\"Filename: {} \" .format(data_file))\n",
        "                  print(\"ClassName: {} \" .format(searched_string.group(0)))\n",
        "                  assemble_y_test(selected_rows['preictal'].values[0]) \n",
        "                  x=loadmat(f)\n",
        "                  get_variables(x,data_file,searched_string)\n",
        "          \n",
        "                  all_X,all_Y=list_to_array()\n",
        "                  x_test=all_X\n",
        "                  y_test=all_Y\n",
        "                  Y_labels.append(y_test)\n",
        "                  x_test=x_test.reshape(len(x_test),108,108,15,1)\n",
        "                  prediction=mode.predict(x_test,batch_size=1)\n",
        "                  predictions.append(prediction)\n",
        "                # print(\"LOSS: {}\" .format(loss))\n",
        "                # print(\"ACCURACY: {}\" .format(accuracy))\n",
        "                # counter=counter+1\n",
        "                  break\n",
        "                counter=counter+1\n",
        "                if counter==35:\n",
        "                  break\n",
        "                  \n",
        "                \n",
        "\n",
        "#     return all_X,all_Y\n"
      ],
      "execution_count": 0,
      "outputs": []
    },
    {
      "cell_type": "code",
      "metadata": {
        "id": "UvYDQJIhMEit",
        "colab_type": "code",
        "colab": {}
      },
      "source": [
        "#  df=pd.read_csv(r\"./SzPrediction_answer_key.csv\")"
      ],
      "execution_count": 0,
      "outputs": []
    },
    {
      "cell_type": "code",
      "metadata": {
        "id": "VuFrMclYMEiw",
        "colab_type": "code",
        "colab": {}
      },
      "source": [
        "# df.head()"
      ],
      "execution_count": 0,
      "outputs": []
    },
    {
      "cell_type": "code",
      "metadata": {
        "id": "oafy6VnUMEiz",
        "colab_type": "code",
        "colab": {}
      },
      "source": [
        "predictions=[]\n",
        "Y_labels=[]\n",
        "master_array=[]\n",
        "master_Y=[]\n",
        "run(include_test=True)"
      ],
      "execution_count": 0,
      "outputs": []
    },
    {
      "cell_type": "code",
      "metadata": {
        "id": "OUDlY-arbCfu",
        "colab_type": "code",
        "colab": {}
      },
      "source": [
        "test_predictions=predictions\n",
        "array=np.array(test_predictions)\n",
        "# type(test_predictions)\n",
        "# array=array[9]\n",
        "array[0].shape"
      ],
      "execution_count": 0,
      "outputs": []
    },
    {
      "cell_type": "code",
      "metadata": {
        "id": "zmW6XXC1bxqW",
        "colab_type": "code",
        "colab": {}
      },
      "source": [
        "# array=array.reshape(600,2)\n",
        "# final_pred=[]\n",
        "# final_pred=np.vstack((array[0],array[1]))\n",
        "# for index, elements in enumerate(array):\n",
        "#   if index+2<9:\n",
        "#     final_pred=np.vstack((final_pred,array[index+2]))"
      ],
      "execution_count": 0,
      "outputs": []
    },
    {
      "cell_type": "code",
      "metadata": {
        "id": "uFNtdZM7Z7gf",
        "colab_type": "code",
        "outputId": "67cce0ef-fd57-4adb-f368-e77b21b1bf7f",
        "colab": {
          "base_uri": "https://localhost:8080/",
          "height": 34
        }
      },
      "source": [
        "final_pred=array[0]\n",
        "final_pred.shape"
      ],
      "execution_count": 0,
      "outputs": [
        {
          "output_type": "execute_result",
          "data": {
            "text/plain": [
              "(60, 2)"
            ]
          },
          "metadata": {
            "tags": []
          },
          "execution_count": 147
        }
      ]
    },
    {
      "cell_type": "code",
      "metadata": {
        "id": "s7nQJnvqaDv7",
        "colab_type": "code",
        "colab": {}
      },
      "source": [
        "# len(Y_labels)\n",
        "Y_array=np.array(Y_labels)\n",
        "Y_array=Y_array[0]\n",
        "Y_array.shape\n",
        "# len(Y_labels)\n",
        "# Y_labels[0].shape"
      ],
      "execution_count": 0,
      "outputs": []
    },
    {
      "cell_type": "code",
      "metadata": {
        "id": "Mpvp276PmSC-",
        "colab_type": "code",
        "colab": {}
      },
      "source": [
        "final_pred[0:10]"
      ],
      "execution_count": 0,
      "outputs": []
    },
    {
      "cell_type": "code",
      "metadata": {
        "id": "_snhs7D1MEjQ",
        "colab_type": "code",
        "colab": {}
      },
      "source": [
        "test_predictions=final_pred\n",
        "test_predictions=np.argmax(test_predictions,axis=1)\n",
        "test_Y_pred=Y_array\n",
        "test_Y_pred=np.argmax(test_Y_pred,axis=1)"
      ],
      "execution_count": 0,
      "outputs": []
    },
    {
      "cell_type": "code",
      "metadata": {
        "id": "-wS__JZHty4s",
        "colab_type": "code",
        "colab": {}
      },
      "source": [
        ""
      ],
      "execution_count": 0,
      "outputs": []
    },
    {
      "cell_type": "code",
      "metadata": {
        "id": "90nssLoQmX7m",
        "colab_type": "code",
        "colab": {}
      },
      "source": [
        "test_predictions[0]"
      ],
      "execution_count": 0,
      "outputs": []
    },
    {
      "cell_type": "code",
      "metadata": {
        "id": "d6vr0KWhmcVN",
        "colab_type": "code",
        "colab": {}
      },
      "source": [
        "test_Y_pred[0]"
      ],
      "execution_count": 0,
      "outputs": []
    },
    {
      "cell_type": "code",
      "metadata": {
        "id": "_zg-jqkSMEjW",
        "colab_type": "code",
        "colab": {}
      },
      "source": [
        "classification_report(test_predictions,test_Y_pred)"
      ],
      "execution_count": 0,
      "outputs": []
    },
    {
      "cell_type": "code",
      "metadata": {
        "id": "y_F-JI97lqGc",
        "colab_type": "code",
        "colab": {}
      },
      "source": [
        "final_pred[0:100]"
      ],
      "execution_count": 0,
      "outputs": []
    }
  ]
}