{
  "nbformat": 4,
  "nbformat_minor": 0,
  "metadata": {
    "kernelspec": {
      "display_name": "Python 3",
      "language": "python",
      "name": "python3"
    },
    "language_info": {
      "codemirror_mode": {
        "name": "ipython",
        "version": 3
      },
      "file_extension": ".py",
      "mimetype": "text/x-python",
      "name": "python",
      "nbconvert_exporter": "python",
      "pygments_lexer": "ipython3",
      "version": "3.7.3"
    },
    "colab": {
      "name": "prediction.ipynb",
      "provenance": []
    }
  },
  "cells": [
    {
      "cell_type": "code",
      "metadata": {
        "id": "2PReoSqlMGq2",
        "colab_type": "code",
        "outputId": "cdb1edff-1067-435f-83a3-ebd807e5e8c6",
        "colab": {
          "base_uri": "https://localhost:8080/",
          "height": 238
        }
      },
      "source": [
        "!pip install pyts"
      ],
      "execution_count": 0,
      "outputs": [
        {
          "output_type": "stream",
          "text": [
            "Collecting pyts\n",
            "\u001b[?25l  Downloading https://files.pythonhosted.org/packages/b6/2b/1a62c0d32b40ee85daa8f6a6160828537b3d846c9fe93253b38846c6ec1f/pyts-0.11.0-py3-none-any.whl (2.5MB)\n",
            "\u001b[K     |████████████████████████████████| 2.5MB 5.0MB/s \n",
            "\u001b[?25hRequirement already satisfied: joblib>=0.12 in /usr/local/lib/python3.6/dist-packages (from pyts) (0.15.1)\n",
            "Requirement already satisfied: scikit-learn>=0.22.1 in /usr/local/lib/python3.6/dist-packages (from pyts) (0.22.2.post1)\n",
            "Requirement already satisfied: numba>=0.48.0 in /usr/local/lib/python3.6/dist-packages (from pyts) (0.48.0)\n",
            "Requirement already satisfied: scipy>=1.3.0 in /usr/local/lib/python3.6/dist-packages (from pyts) (1.4.1)\n",
            "Requirement already satisfied: numpy>=1.17.5 in /usr/local/lib/python3.6/dist-packages (from pyts) (1.18.4)\n",
            "Requirement already satisfied: llvmlite<0.32.0,>=0.31.0dev0 in /usr/local/lib/python3.6/dist-packages (from numba>=0.48.0->pyts) (0.31.0)\n",
            "Requirement already satisfied: setuptools in /usr/local/lib/python3.6/dist-packages (from numba>=0.48.0->pyts) (46.3.0)\n",
            "Installing collected packages: pyts\n",
            "Successfully installed pyts-0.11.0\n"
          ],
          "name": "stdout"
        }
      ]
    },
    {
      "cell_type": "code",
      "metadata": {
        "id": "ADH1ZqtYMIb8",
        "colab_type": "code",
        "outputId": "fa9e7598-3040-4686-b8a9-b2afbae066e6",
        "colab": {
          "base_uri": "https://localhost:8080/",
          "height": 390
        }
      },
      "source": [
        "!pip install gcsfs"
      ],
      "execution_count": 0,
      "outputs": [
        {
          "output_type": "stream",
          "text": [
            "Collecting gcsfs\n",
            "  Downloading https://files.pythonhosted.org/packages/ce/5c/bc61dbd2e5b61d84486a96a64ca43512c9ac085487464562182f58406290/gcsfs-0.6.2-py2.py3-none-any.whl\n",
            "Requirement already satisfied: fsspec>=0.6.0 in /usr/local/lib/python3.6/dist-packages (from gcsfs) (0.7.4)\n",
            "Requirement already satisfied: decorator in /usr/local/lib/python3.6/dist-packages (from gcsfs) (4.4.2)\n",
            "Requirement already satisfied: google-auth-oauthlib in /usr/local/lib/python3.6/dist-packages (from gcsfs) (0.4.1)\n",
            "Requirement already satisfied: requests in /usr/local/lib/python3.6/dist-packages (from gcsfs) (2.23.0)\n",
            "Requirement already satisfied: google-auth>=1.2 in /usr/local/lib/python3.6/dist-packages (from gcsfs) (1.7.2)\n",
            "Requirement already satisfied: requests-oauthlib>=0.7.0 in /usr/local/lib/python3.6/dist-packages (from google-auth-oauthlib->gcsfs) (1.3.0)\n",
            "Requirement already satisfied: certifi>=2017.4.17 in /usr/local/lib/python3.6/dist-packages (from requests->gcsfs) (2020.4.5.1)\n",
            "Requirement already satisfied: chardet<4,>=3.0.2 in /usr/local/lib/python3.6/dist-packages (from requests->gcsfs) (3.0.4)\n",
            "Requirement already satisfied: idna<3,>=2.5 in /usr/local/lib/python3.6/dist-packages (from requests->gcsfs) (2.9)\n",
            "Requirement already satisfied: urllib3!=1.25.0,!=1.25.1,<1.26,>=1.21.1 in /usr/local/lib/python3.6/dist-packages (from requests->gcsfs) (1.24.3)\n",
            "Requirement already satisfied: rsa<4.1,>=3.1.4 in /usr/local/lib/python3.6/dist-packages (from google-auth>=1.2->gcsfs) (4.0)\n",
            "Requirement already satisfied: setuptools>=40.3.0 in /usr/local/lib/python3.6/dist-packages (from google-auth>=1.2->gcsfs) (46.3.0)\n",
            "Requirement already satisfied: six>=1.9.0 in /usr/local/lib/python3.6/dist-packages (from google-auth>=1.2->gcsfs) (1.12.0)\n",
            "Requirement already satisfied: cachetools<3.2,>=2.0.0 in /usr/local/lib/python3.6/dist-packages (from google-auth>=1.2->gcsfs) (3.1.1)\n",
            "Requirement already satisfied: pyasn1-modules>=0.2.1 in /usr/local/lib/python3.6/dist-packages (from google-auth>=1.2->gcsfs) (0.2.8)\n",
            "Requirement already satisfied: oauthlib>=3.0.0 in /usr/local/lib/python3.6/dist-packages (from requests-oauthlib>=0.7.0->google-auth-oauthlib->gcsfs) (3.1.0)\n",
            "Requirement already satisfied: pyasn1>=0.1.3 in /usr/local/lib/python3.6/dist-packages (from rsa<4.1,>=3.1.4->google-auth>=1.2->gcsfs) (0.4.8)\n",
            "Installing collected packages: gcsfs\n",
            "Successfully installed gcsfs-0.6.2\n"
          ],
          "name": "stdout"
        }
      ]
    },
    {
      "cell_type": "code",
      "metadata": {
        "id": "9RltZUQ6MEhf",
        "colab_type": "code",
        "outputId": "ccc40b7a-ddc2-4f36-f2c3-b444b492350e",
        "colab": {
          "base_uri": "https://localhost:8080/",
          "height": 104
        }
      },
      "source": [
        "import tensorflow as tf\n",
        "from tensorflow import keras\n",
        "import tensorflow.keras.metrics\n",
        "from tensorflow.keras.models import Model\n",
        "from tensorflow.python.lib.io import file_io\n",
        "import numpy as np\n",
        "# import keras\n",
        "import h5py\n",
        "import pandas as pd\n",
        "import re\n",
        "import glob\n",
        "\n",
        "from sklearn.metrics import classification_report\n",
        "from scipy.io import loadmat\n",
        "from pyts.image import GramianAngularField\n",
        "import sys\n",
        "from os import walk\n",
        "from pyts.image import RecurrencePlot\n",
        "import os\n",
        "from google.cloud import storage\n",
        "import gcsfs\n",
        "from os import environ\n",
        "from imblearn.over_sampling import (SMOTE, BorderlineSMOTE, SVMSMOTE, SMOTENC)\n",
        "from imblearn.over_sampling import ADASYN\n",
        "from imblearn.under_sampling import NearMiss \n",
        "from sklearn.model_selection import train_test_split\n"
      ],
      "execution_count": 0,
      "outputs": [
        {
          "output_type": "stream",
          "text": [
            "/usr/local/lib/python3.6/dist-packages/sklearn/externals/six.py:31: FutureWarning: The module is deprecated in version 0.21 and will be removed in version 0.23 since we've dropped support for Python 2.7. Please rely on the official version of six (https://pypi.org/project/six/).\n",
            "  \"(https://pypi.org/project/six/).\", FutureWarning)\n",
            "/usr/local/lib/python3.6/dist-packages/sklearn/utils/deprecation.py:144: FutureWarning: The sklearn.neighbors.base module is  deprecated in version 0.22 and will be removed in version 0.24. The corresponding classes / functions should instead be imported from sklearn.neighbors. Anything that cannot be imported from sklearn.neighbors is now part of the private API.\n",
            "  warnings.warn(message, FutureWarning)\n"
          ],
          "name": "stderr"
        }
      ]
    },
    {
      "cell_type": "code",
      "metadata": {
        "id": "r2rPSuf4MEhp",
        "colab_type": "code",
        "colab": {}
      },
      "source": [
        "# model=tf.keras.models.load_model(r\"G:\\Seizure_Data\\final\\trainer\\save_h5\\model.h5\")"
      ],
      "execution_count": 0,
      "outputs": []
    },
    {
      "cell_type": "code",
      "metadata": {
        "id": "o9bBoSddMEhv",
        "colab_type": "code",
        "outputId": "6a5d5fc5-e9f8-44f9-bcea-7d0b68248bff",
        "colab": {
          "base_uri": "https://localhost:8080/",
          "height": 34
        }
      },
      "source": [
        "os.environ[\"GOOGLE_APPLICATION_CREDENTIALS\"] = r\"/content/seizure-prediction123-593d1ad578b8.json\"\n",
        "print(os.environ.get('GOOGLE_APPLICATION_CREDENTIALS'))\n",
        "client=storage.Client()\n",
        "os.environ[\"GCP_BUCKET_NAME\"] = \"marwansrikarharris\"\n",
        "bucket_name = os.environ.get(\"GCP_BUCKET_NAME\")\n",
        "bucket = client.get_bucket(bucket_name)\n",
        "files = bucket.list_blobs(prefix=\"Data/\")\n",
        "fileList = [file.name for file in files if '.' in file.name]"
      ],
      "execution_count": 0,
      "outputs": [
        {
          "output_type": "stream",
          "text": [
            "/content/seizure-prediction123-593d1ad578b8.json\n"
          ],
          "name": "stdout"
        }
      ]
    },
    {
      "cell_type": "code",
      "metadata": {
        "id": "EG0uUDYJO1Lv",
        "colab_type": "code",
        "colab": {}
      },
      "source": [
        "model_path=bucket.list_blobs(prefix=\"model/\")"
      ],
      "execution_count": 0,
      "outputs": []
    },
    {
      "cell_type": "code",
      "metadata": {
        "id": "J1R6nWMIP8i1",
        "colab_type": "code",
        "colab": {}
      },
      "source": [
        "model_path=[file.name for file in model_path  if '.' in file.name]"
      ],
      "execution_count": 0,
      "outputs": []
    },
    {
      "cell_type": "code",
      "metadata": {
        "id": "d6rWmjDQQEbk",
        "colab_type": "code",
        "outputId": "58437625-bfa1-4275-a5f0-89a74cdacbf1",
        "colab": {
          "base_uri": "https://localhost:8080/",
          "height": 34
        }
      },
      "source": [
        "model_path"
      ],
      "execution_count": 0,
      "outputs": [
        {
          "output_type": "execute_result",
          "data": {
            "text/plain": [
              "['model/testfile1.h5']"
            ]
          },
          "metadata": {
            "tags": []
          },
          "execution_count": 9
        }
      ]
    },
    {
      "cell_type": "code",
      "metadata": {
        "id": "eBcvO479Qg9c",
        "colab_type": "code",
        "colab": {}
      },
      "source": [
        "fs=gcsfs.GCSFileSystem(project='seizure-prediction123')"
      ],
      "execution_count": 0,
      "outputs": []
    },
    {
      "cell_type": "code",
      "metadata": {
        "id": "K_Uznp_CQSME",
        "colab_type": "code",
        "colab": {}
      },
      "source": [
        "# file_dir=bucket_name+r\"/\"+model_path[0]\n",
        "# with fs.open(file_dir,'rb') as f:\n",
        "#   mode=tf.keras.models.load_model(f)"
      ],
      "execution_count": 0,
      "outputs": []
    },
    {
      "cell_type": "code",
      "metadata": {
        "id": "tb9n-5_ORDZv",
        "colab_type": "code",
        "colab": {}
      },
      "source": [
        "# model_file=file.io."
      ],
      "execution_count": 0,
      "outputs": []
    },
    {
      "cell_type": "code",
      "metadata": {
        "id": "UIaPyDi6QLes",
        "colab_type": "code",
        "colab": {}
      },
      "source": [
        "model=tf.keras.models.load_model('/content/model_testfile1.h5')"
      ],
      "execution_count": 0,
      "outputs": []
    },
    {
      "cell_type": "code",
      "metadata": {
        "id": "QqYYZu6kMEh1",
        "colab_type": "code",
        "colab": {}
      },
      "source": [
        "def get_variables(x,path,searched_string):\n",
        "\n",
        "#         print(test.group(0))\n",
        "    searched_string=searched_string.group(0)\n",
        "    searched_string=re.sub(r\"[0]+(?=[1-9])\",\"\",searched_string)\n",
        "    time_series_data=x[searched_string][0][0][0]\n",
        "    data_length_sec=x[searched_string][0][0][1]\n",
        "    sampling_frequency=data_length_sec=x[searched_string][0][0][2]\n",
        "    channels=data_length_sec=x[searched_string][0][0][3]\n",
        "#         sequence=data_length_sec=x[searched_string][0][0][4]\n",
        "    assemble_matrix(time_series_data,path)\n",
        "    "
      ],
      "execution_count": 0,
      "outputs": []
    },
    {
      "cell_type": "code",
      "metadata": {
        "id": "rAeFfg4oMEh7",
        "colab_type": "code",
        "colab": {}
      },
      "source": [
        "def convert_to_Gramiam(channel_data):\n",
        "    transformer=RecurrencePlot()\n",
        "    X_new = transformer.transform(channel_data)\n",
        "    input_size=3996\n",
        "    output_size=108\n",
        "    bin_size = input_size // output_size\n",
        "    X_new = X_new.reshape((1,output_size, bin_size,\n",
        "                                   output_size, bin_size,)).max(4).max(2)\n",
        "    # print(\"FINISHED RECURRENCE\")\n",
        "    X_new=X_new.astype(np.float16)\n",
        "    return X_new"
      ],
      "execution_count": 0,
      "outputs": []
    },
    {
      "cell_type": "code",
      "metadata": {
        "id": "mm8suxzeMEh-",
        "colab_type": "code",
        "colab": {}
      },
      "source": [
        "def assemble_matrix(time_series_data,path):\n",
        "    time_series_section=time_series_data[:,3:239763]\n",
        "    equal_partitions=np.hsplit(time_series_section,60)\n",
        "    image_array=get_image_matrix(equal_partitions)\n",
        "#     assemble_y(path)\n",
        "    # assemble_dataframe(list_of_3D_arrays,path)\n",
        "#     add_to_master(image_array)"
      ],
      "execution_count": 0,
      "outputs": []
    },
    {
      "cell_type": "code",
      "metadata": {
        "id": "6ZlGAU3zMEiB",
        "colab_type": "code",
        "colab": {}
      },
      "source": [
        "def get_image_matrix(equal_partitions):\n",
        "#     list_of_3D_array=[]\n",
        "    for idx, segment in enumerate(equal_partitions):\n",
        "        image_matrix=[]\n",
        "        for index, single_channel in enumerate(segment,start=0):\n",
        "            single_channel=np.reshape(single_channel,(1,len(single_channel)))\n",
        "            image_matrix.append(convert_to_Gramiam(single_channel))\n",
        "        master_array.append(create_3D_image_array(image_matrix))"
      ],
      "execution_count": 0,
      "outputs": []
    },
    {
      "cell_type": "code",
      "metadata": {
        "id": "UG96JsjPMEiI",
        "colab_type": "code",
        "colab": {}
      },
      "source": [
        "def create_3D_image_array(image_matrix):\n",
        "    image_1=image_matrix[0][0]\n",
        "    image_2=image_matrix[1][0]\n",
        "    image_3=image_matrix[2][0]\n",
        "    image_4=image_matrix[3][0]\n",
        "    image_5=image_matrix[4][0]\n",
        "    image_6=image_matrix[5][0]\n",
        "    image_7=image_matrix[6][0]\n",
        "    image_8=image_matrix[7][0]\n",
        "    image_9=image_matrix[8][0]\n",
        "    image_10=image_matrix[9][0]\n",
        "    image_11=image_matrix[10][0]\n",
        "    image_12=image_matrix[11][0]\n",
        "    image_13=image_matrix[12][0]\n",
        "    image_14=image_matrix[13][0]\n",
        "    image_15=image_matrix[14][0]\n",
        "    # image_16=image_matrix[15][0]\n",
        "\n",
        "    # image_array_3D=np.dstack([image_1,image_2,image_3,image_4,image_5,image_6,image_7,image_8,image_9,\n",
        "    #                           image_10,image_11,image_12,image_13,image_14,image_15,image_16])\n",
        "    image_array_3D=np.dstack([image_1,image_2,image_3,image_4,image_5,image_6,image_7,image_8,image_9,\n",
        "                              image_10,image_11,image_12,image_13,image_14,image_15])\n",
        "\n",
        "    return image_array_3D"
      ],
      "execution_count": 0,
      "outputs": []
    },
    {
      "cell_type": "code",
      "metadata": {
        "id": "oLSOPW-MMEiO",
        "colab_type": "code",
        "colab": {}
      },
      "source": [
        "# def add_to_master(list_of_3D_arrays):\n",
        "#     sample_3D_array=list_of_3D_arrays\n",
        "#     master_array.append(list_of_3D_arrays)"
      ],
      "execution_count": 0,
      "outputs": []
    },
    {
      "cell_type": "code",
      "metadata": {
        "id": "wBxpJIDjMEiR",
        "colab_type": "code",
        "colab": {}
      },
      "source": [
        "# def assemble_y(path):\n",
        "#     match=re.search('preictal',path)\n",
        "#     if match:\n",
        "#         for i in range(60):\n",
        "#             master_Y.append([0,1])\n",
        "#     else:\n",
        "#         for i in range(60):\n",
        "#             master_Y.append([1,0])"
      ],
      "execution_count": 0,
      "outputs": []
    },
    {
      "cell_type": "code",
      "metadata": {
        "id": "_Rl6kFcEMEiX",
        "colab_type": "code",
        "colab": {}
      },
      "source": [
        "def list_to_array():\n",
        "    all_X=np.array(master_array)\n",
        "    all_Y=np.array(master_Y)\n",
        "    return all_X,all_Y"
      ],
      "execution_count": 0,
      "outputs": []
    },
    {
      "cell_type": "code",
      "metadata": {
        "id": "jzhlL3tHMEid",
        "colab_type": "code",
        "colab": {}
      },
      "source": [
        "def assemble_y_test(label):\n",
        "    if label==1:\n",
        "        for i in range(60):\n",
        "            master_Y.append([0,1])\n",
        "    else:\n",
        "        for i in range(60):\n",
        "            master_Y.append([1,0])"
      ],
      "execution_count": 0,
      "outputs": []
    },
    {
      "cell_type": "code",
      "metadata": {
        "id": "1Pq67EPxMEij",
        "colab_type": "code",
        "colab": {}
      },
      "source": [
        "# mode=tf.keras.models.load_model('/content/testfile1.h5')"
      ],
      "execution_count": 0,
      "outputs": []
    },
    {
      "cell_type": "code",
      "metadata": {
        "id": "LeaEq-iEMEim",
        "colab_type": "code",
        "colab": {}
      },
      "source": [
        "def run(include_test=False):\n",
        "#     data_files = glob.glob(r\"/content/drive/My Drive/Seizure_Test_Data/*.mat\")\n",
        "    files=[]\n",
        "    df=pd.read_csv(r\"/content/SzPrediction_answer_key.csv\")\n",
        "    counter=0\n",
        "    fs=gcsfs.GCSFileSystem(project='seizure-prediction123')\n",
        "    for idx, file_name in enumerate(fileList):\n",
        "        test=re.search(r'test',fileList[idx])\n",
        "        \n",
        "        if test:\n",
        "            file_dir=bucket_name+r\"/\"+fileList[idx]\n",
        "            with fs.open(file_dir,'rb') as f:\n",
        "                master_array=[]\n",
        "                master_Y=[]\n",
        "                matching_string=r\"(?<=[0-9]_)[\\S]+(?=.mat)\"\n",
        "                test_subject_string=r\"(?<=\\/)Dog[0-9a-z_]+.mat\"\n",
        "                test_subject=re.search(test_subject_string,fileList[idx])\n",
        "                searched_string=re.search(matching_string,fileList[idx])\n",
        "                \n",
        "                selected_rows=df.loc[df['clip']==test_subject.group(0)]\n",
        "                               \n",
        "                \n",
        "                data_file=fileList[idx]\n",
        "                \n",
        "                \n",
        "                if searched_string.group(0)=='test_segment_0031':\n",
        "                  print(\"Filename: {} \" .format(data_file))\n",
        "                  print(\"ClassName: {} \" .format(searched_string.group(0)))\n",
        "                  assemble_y_test(selected_rows['preictal'].values[0]) \n",
        "                  x=loadmat(f)\n",
        "                  get_variables(x,data_file,searched_string)\n",
        "          \n",
        "                  all_X,all_Y=list_to_array()\n",
        "                  x_test=all_X\n",
        "                  y_test=all_Y\n",
        "                  Y_labels.append(y_test)\n",
        "                  x_test=x_test.reshape(len(x_test),108,108,15,1)\n",
        "                  prediction=mode.predict(x_test,batch_size=1)\n",
        "                  predictions.append(prediction)\n",
        "                # print(\"LOSS: {}\" .format(loss))\n",
        "                # print(\"ACCURACY: {}\" .format(accuracy))\n",
        "                # counter=counter+1\n",
        "                  break\n",
        "                counter=counter+1\n",
        "                if counter==35:\n",
        "                  break\n",
        "                  \n",
        "                \n",
        "\n",
        "#     return all_X,all_Y\n"
      ],
      "execution_count": 0,
      "outputs": []
    },
    {
      "cell_type": "code",
      "metadata": {
        "id": "UvYDQJIhMEit",
        "colab_type": "code",
        "colab": {}
      },
      "source": [
        "#  df=pd.read_csv(r\"./SzPrediction_answer_key.csv\")"
      ],
      "execution_count": 0,
      "outputs": []
    },
    {
      "cell_type": "code",
      "metadata": {
        "id": "VuFrMclYMEiw",
        "colab_type": "code",
        "colab": {}
      },
      "source": [
        "# df.head()"
      ],
      "execution_count": 0,
      "outputs": []
    },
    {
      "cell_type": "code",
      "metadata": {
        "id": "oafy6VnUMEiz",
        "colab_type": "code",
        "outputId": "7fb354cd-8fff-4d27-d699-b1357be8b92d",
        "colab": {
          "base_uri": "https://localhost:8080/",
          "height": 50
        }
      },
      "source": [
        "predictions=[]\n",
        "Y_labels=[]\n",
        "master_array=[]\n",
        "master_Y=[]\n",
        "run(include_test=True)"
      ],
      "execution_count": 0,
      "outputs": [
        {
          "output_type": "stream",
          "text": [
            "Filename: Data/Dog_1/Dog_1/Dog_1_test_segment_0031.mat \n",
            "ClassName: test_segment_0031 \n"
          ],
          "name": "stdout"
        }
      ]
    },
    {
      "cell_type": "code",
      "metadata": {
        "id": "OUDlY-arbCfu",
        "colab_type": "code",
        "outputId": "9d583a88-c9ec-40ab-af86-e0f07b37539b",
        "colab": {
          "base_uri": "https://localhost:8080/",
          "height": 34
        }
      },
      "source": [
        "test_predictions=predictions\n",
        "array=np.array(test_predictions)\n",
        "# type(test_predictions)\n",
        "# array=array[9]\n",
        "array[0].shape"
      ],
      "execution_count": 0,
      "outputs": [
        {
          "output_type": "execute_result",
          "data": {
            "text/plain": [
              "(60, 2)"
            ]
          },
          "metadata": {
            "tags": []
          },
          "execution_count": 146
        }
      ]
    },
    {
      "cell_type": "code",
      "metadata": {
        "id": "zmW6XXC1bxqW",
        "colab_type": "code",
        "colab": {}
      },
      "source": [
        "# array=array.reshape(600,2)\n",
        "# final_pred=[]\n",
        "# final_pred=np.vstack((array[0],array[1]))\n",
        "# for index, elements in enumerate(array):\n",
        "#   if index+2<9:\n",
        "#     final_pred=np.vstack((final_pred,array[index+2]))"
      ],
      "execution_count": 0,
      "outputs": []
    },
    {
      "cell_type": "code",
      "metadata": {
        "id": "uFNtdZM7Z7gf",
        "colab_type": "code",
        "outputId": "67cce0ef-fd57-4adb-f368-e77b21b1bf7f",
        "colab": {
          "base_uri": "https://localhost:8080/",
          "height": 34
        }
      },
      "source": [
        "final_pred=array[0]\n",
        "final_pred.shape"
      ],
      "execution_count": 0,
      "outputs": [
        {
          "output_type": "execute_result",
          "data": {
            "text/plain": [
              "(60, 2)"
            ]
          },
          "metadata": {
            "tags": []
          },
          "execution_count": 147
        }
      ]
    },
    {
      "cell_type": "code",
      "metadata": {
        "id": "s7nQJnvqaDv7",
        "colab_type": "code",
        "outputId": "845462ed-e260-45ae-8bfd-dadfde89d33a",
        "colab": {
          "base_uri": "https://localhost:8080/",
          "height": 34
        }
      },
      "source": [
        "# len(Y_labels)\n",
        "Y_array=np.array(Y_labels)\n",
        "Y_array=Y_array[0]\n",
        "Y_array.shape\n",
        "# len(Y_labels)\n",
        "# Y_labels[0].shape"
      ],
      "execution_count": 0,
      "outputs": [
        {
          "output_type": "execute_result",
          "data": {
            "text/plain": [
              "(60, 2)"
            ]
          },
          "metadata": {
            "tags": []
          },
          "execution_count": 151
        }
      ]
    },
    {
      "cell_type": "code",
      "metadata": {
        "id": "Mpvp276PmSC-",
        "colab_type": "code",
        "outputId": "aece987c-3609-4ab8-e7fd-13a01c8447be",
        "colab": {
          "base_uri": "https://localhost:8080/",
          "height": 185
        }
      },
      "source": [
        "final_pred[0:10]"
      ],
      "execution_count": 0,
      "outputs": [
        {
          "output_type": "execute_result",
          "data": {
            "text/plain": [
              "array([[3.9870833e-16, 1.0000000e+00],\n",
              "       [2.0103520e-17, 1.0000000e+00],\n",
              "       [9.5323797e-18, 1.0000000e+00],\n",
              "       [9.3552837e-18, 1.0000000e+00],\n",
              "       [1.6309488e-16, 1.0000000e+00],\n",
              "       [3.3210484e-20, 1.0000000e+00],\n",
              "       [1.1657505e-17, 1.0000000e+00],\n",
              "       [1.7018141e-18, 1.0000000e+00],\n",
              "       [9.3205173e-18, 1.0000000e+00],\n",
              "       [2.6479551e-18, 1.0000000e+00]], dtype=float32)"
            ]
          },
          "metadata": {
            "tags": []
          },
          "execution_count": 155
        }
      ]
    },
    {
      "cell_type": "code",
      "metadata": {
        "id": "_snhs7D1MEjQ",
        "colab_type": "code",
        "colab": {}
      },
      "source": [
        "test_predictions=final_pred\n",
        "test_predictions=np.argmax(test_predictions,axis=1)\n",
        "test_Y_pred=Y_array\n",
        "test_Y_pred=np.argmax(test_Y_pred,axis=1)"
      ],
      "execution_count": 0,
      "outputs": []
    },
    {
      "cell_type": "code",
      "metadata": {
        "id": "-wS__JZHty4s",
        "colab_type": "code",
        "colab": {}
      },
      "source": [
        ""
      ],
      "execution_count": 0,
      "outputs": []
    },
    {
      "cell_type": "code",
      "metadata": {
        "id": "90nssLoQmX7m",
        "colab_type": "code",
        "outputId": "c8260562-41ce-4cab-dd97-47e463b5f615",
        "colab": {
          "base_uri": "https://localhost:8080/",
          "height": 34
        }
      },
      "source": [
        "test_predictions[0]"
      ],
      "execution_count": 0,
      "outputs": [
        {
          "output_type": "execute_result",
          "data": {
            "text/plain": [
              "1"
            ]
          },
          "metadata": {
            "tags": []
          },
          "execution_count": 159
        }
      ]
    },
    {
      "cell_type": "code",
      "metadata": {
        "id": "d6vr0KWhmcVN",
        "colab_type": "code",
        "outputId": "30b59ad9-aa5f-4fab-c750-0152fd1bbb48",
        "colab": {
          "base_uri": "https://localhost:8080/",
          "height": 34
        }
      },
      "source": [
        "test_Y_pred[0]"
      ],
      "execution_count": 0,
      "outputs": [
        {
          "output_type": "execute_result",
          "data": {
            "text/plain": [
              "1"
            ]
          },
          "metadata": {
            "tags": []
          },
          "execution_count": 160
        }
      ]
    },
    {
      "cell_type": "code",
      "metadata": {
        "id": "_zg-jqkSMEjW",
        "colab_type": "code",
        "outputId": "fa47f426-8550-4832-f47e-84c7f01f78f0",
        "colab": {
          "base_uri": "https://localhost:8080/",
          "height": 54
        }
      },
      "source": [
        "classification_report(test_predictions,test_Y_pred)"
      ],
      "execution_count": 0,
      "outputs": [
        {
          "output_type": "execute_result",
          "data": {
            "text/plain": [
              "'              precision    recall  f1-score   support\\n\\n           1       1.00      1.00      1.00        60\\n\\n    accuracy                           1.00        60\\n   macro avg       1.00      1.00      1.00        60\\nweighted avg       1.00      1.00      1.00        60\\n'"
            ]
          },
          "metadata": {
            "tags": []
          },
          "execution_count": 161
        }
      ]
    },
    {
      "cell_type": "code",
      "metadata": {
        "id": "y_F-JI97lqGc",
        "colab_type": "code",
        "outputId": "b77d1013-fb70-44f3-8a0b-9ec206b6003d",
        "colab": {
          "base_uri": "https://localhost:8080/",
          "height": 1000
        }
      },
      "source": [
        "final_pred[0:100]"
      ],
      "execution_count": 0,
      "outputs": [
        {
          "output_type": "execute_result",
          "data": {
            "text/plain": [
              "array([[6.32861912e-21, 1.00000000e+00],\n",
              "       [1.44388445e-21, 1.00000000e+00],\n",
              "       [5.42072342e-19, 1.00000000e+00],\n",
              "       [4.36676390e-22, 1.00000000e+00],\n",
              "       [3.42850151e-17, 1.00000000e+00],\n",
              "       [6.05167881e-21, 1.00000000e+00],\n",
              "       [4.02424375e-24, 1.00000000e+00],\n",
              "       [3.88169598e-18, 1.00000000e+00],\n",
              "       [1.00386689e-17, 1.00000000e+00],\n",
              "       [7.66937388e-23, 1.00000000e+00],\n",
              "       [6.27094980e-19, 1.00000000e+00],\n",
              "       [3.42523594e-23, 1.00000000e+00],\n",
              "       [6.51155915e-06, 9.99993443e-01],\n",
              "       [1.75842856e-19, 1.00000000e+00],\n",
              "       [3.61212196e-20, 1.00000000e+00],\n",
              "       [3.98032784e-20, 1.00000000e+00],\n",
              "       [4.73501679e-22, 1.00000000e+00],\n",
              "       [1.08696157e-21, 1.00000000e+00],\n",
              "       [3.98605412e-21, 1.00000000e+00],\n",
              "       [1.17728755e-20, 1.00000000e+00],\n",
              "       [2.06400351e-15, 1.00000000e+00],\n",
              "       [3.24138094e-21, 1.00000000e+00],\n",
              "       [2.01178148e-22, 1.00000000e+00],\n",
              "       [4.97745475e-24, 1.00000000e+00],\n",
              "       [1.07632444e-21, 1.00000000e+00],\n",
              "       [1.36557077e-16, 1.00000000e+00],\n",
              "       [2.34392174e-23, 1.00000000e+00],\n",
              "       [8.22772332e-23, 1.00000000e+00],\n",
              "       [1.98930152e-20, 1.00000000e+00],\n",
              "       [9.99998093e-01, 1.91867889e-06],\n",
              "       [1.11835646e-19, 1.00000000e+00],\n",
              "       [2.23062590e-19, 1.00000000e+00],\n",
              "       [1.57144898e-18, 1.00000000e+00],\n",
              "       [1.32709796e-20, 1.00000000e+00],\n",
              "       [4.07139786e-18, 1.00000000e+00],\n",
              "       [4.39362960e-23, 1.00000000e+00],\n",
              "       [1.59489162e-20, 1.00000000e+00],\n",
              "       [3.36303925e-22, 1.00000000e+00],\n",
              "       [5.13269469e-24, 1.00000000e+00],\n",
              "       [3.09466006e-20, 1.00000000e+00],\n",
              "       [3.02761484e-18, 1.00000000e+00],\n",
              "       [7.72068518e-23, 1.00000000e+00],\n",
              "       [3.18069727e-23, 1.00000000e+00],\n",
              "       [3.05441894e-21, 1.00000000e+00],\n",
              "       [2.26514649e-13, 1.00000000e+00],\n",
              "       [5.88682613e-14, 1.00000000e+00],\n",
              "       [4.19876548e-17, 1.00000000e+00],\n",
              "       [6.65386785e-16, 1.00000000e+00],\n",
              "       [2.11957443e-18, 1.00000000e+00],\n",
              "       [6.39650884e-20, 1.00000000e+00],\n",
              "       [2.48581609e-18, 1.00000000e+00],\n",
              "       [3.01774451e-18, 1.00000000e+00],\n",
              "       [3.29330036e-16, 1.00000000e+00],\n",
              "       [2.57421783e-14, 1.00000000e+00],\n",
              "       [1.02837881e-17, 1.00000000e+00],\n",
              "       [2.11128739e-10, 1.00000000e+00],\n",
              "       [1.13752618e-09, 1.00000000e+00],\n",
              "       [2.97943462e-12, 1.00000000e+00],\n",
              "       [3.00480173e-16, 1.00000000e+00],\n",
              "       [7.26489703e-17, 1.00000000e+00],\n",
              "       [1.55450440e-18, 1.00000000e+00],\n",
              "       [9.11172635e-19, 1.00000000e+00],\n",
              "       [9.86175066e-19, 1.00000000e+00],\n",
              "       [2.20173042e-19, 1.00000000e+00],\n",
              "       [9.04713658e-18, 1.00000000e+00],\n",
              "       [6.21972208e-21, 1.00000000e+00],\n",
              "       [3.49749499e-18, 1.00000000e+00],\n",
              "       [4.28102330e-17, 1.00000000e+00],\n",
              "       [2.03412908e-15, 1.00000000e+00],\n",
              "       [1.36921169e-16, 1.00000000e+00],\n",
              "       [1.52370809e-14, 1.00000000e+00],\n",
              "       [6.50097099e-16, 1.00000000e+00],\n",
              "       [1.16179555e-16, 1.00000000e+00],\n",
              "       [3.34233060e-16, 1.00000000e+00],\n",
              "       [5.18365847e-16, 1.00000000e+00],\n",
              "       [6.86709727e-17, 1.00000000e+00],\n",
              "       [2.94550361e-16, 1.00000000e+00],\n",
              "       [6.58729476e-16, 1.00000000e+00],\n",
              "       [5.27565448e-12, 1.00000000e+00],\n",
              "       [9.77142874e-19, 1.00000000e+00],\n",
              "       [9.31287186e-19, 1.00000000e+00],\n",
              "       [2.54157763e-15, 1.00000000e+00],\n",
              "       [3.07855898e-16, 1.00000000e+00],\n",
              "       [4.48165033e-17, 1.00000000e+00],\n",
              "       [3.19015512e-13, 1.00000000e+00],\n",
              "       [4.24308068e-15, 1.00000000e+00],\n",
              "       [4.54761401e-15, 1.00000000e+00],\n",
              "       [2.78801424e-15, 1.00000000e+00],\n",
              "       [2.18791787e-17, 1.00000000e+00],\n",
              "       [2.81820303e-13, 1.00000000e+00],\n",
              "       [6.64691688e-16, 1.00000000e+00],\n",
              "       [7.20511702e-17, 1.00000000e+00],\n",
              "       [5.44601554e-17, 1.00000000e+00],\n",
              "       [6.66617803e-12, 1.00000000e+00],\n",
              "       [4.78496026e-18, 1.00000000e+00],\n",
              "       [1.04643195e-17, 1.00000000e+00],\n",
              "       [1.42720717e-17, 1.00000000e+00],\n",
              "       [3.65153430e-14, 1.00000000e+00],\n",
              "       [3.77899878e-17, 1.00000000e+00],\n",
              "       [1.03381023e-18, 1.00000000e+00]], dtype=float32)"
            ]
          },
          "metadata": {
            "tags": []
          },
          "execution_count": 105
        }
      ]
    },
    {
      "cell_type": "code",
      "metadata": {
        "id": "UjdGPLiZmorg",
        "colab_type": "code",
        "colab": {}
      },
      "source": [
        ""
      ],
      "execution_count": 0,
      "outputs": []
    }
  ]
}